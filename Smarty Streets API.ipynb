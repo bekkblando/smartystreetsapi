{
 "cells": [
  {
   "cell_type": "code",
   "execution_count": 2,
   "metadata": {
    "collapsed": true
   },
   "outputs": [],
   "source": [
    "import requests"
   ]
  },
  {
   "cell_type": "code",
   "execution_count": 21,
   "metadata": {
    "collapsed": false
   },
   "outputs": [],
   "source": [
    "test = requests.get('https://api.smartystreets.com/street-address?auth-id=IDHERE&auth-token=AUTHTOKEN&street=1600+amphitheatre+pkwy&city=mountain+view&state=CA&candidates=10')"
   ]
  },
  {
   "cell_type": "code",
   "execution_count": 22,
   "metadata": {
    "collapsed": false
   },
   "outputs": [
    {
     "data": {
      "text/plain": [
       "[{'analysis': {'active': 'Y',\n",
       "   'dpv_cmra': 'N',\n",
       "   'dpv_footnotes': 'AABB',\n",
       "   'dpv_match_code': 'Y',\n",
       "   'dpv_vacant': 'N'},\n",
       "  'candidate_index': 0,\n",
       "  'components': {'city_name': 'Mountain View',\n",
       "   'delivery_point': '00',\n",
       "   'delivery_point_check_digit': '0',\n",
       "   'plus4_code': '1351',\n",
       "   'primary_number': '1600',\n",
       "   'state_abbreviation': 'CA',\n",
       "   'street_name': 'Amphitheatre',\n",
       "   'street_suffix': 'Pkwy',\n",
       "   'zipcode': '94043'},\n",
       "  'delivery_line_1': '1600 Amphitheatre Pkwy',\n",
       "  'delivery_point_barcode': '940431351000',\n",
       "  'input_index': 0,\n",
       "  'last_line': 'Mountain View CA 94043-1351',\n",
       "  'metadata': {'carrier_route': 'C909',\n",
       "   'congressional_district': '18',\n",
       "   'county_fips': '06085',\n",
       "   'county_name': 'Santa Clara',\n",
       "   'dst': True,\n",
       "   'elot_sequence': '0091',\n",
       "   'elot_sort': 'A',\n",
       "   'latitude': 37.42357,\n",
       "   'longitude': -122.08661,\n",
       "   'precision': 'Zip9',\n",
       "   'rdi': 'Commercial',\n",
       "   'record_type': 'S',\n",
       "   'time_zone': 'Pacific',\n",
       "   'utc_offset': -8,\n",
       "   'zip_type': 'Standard'}}]"
      ]
     },
     "execution_count": 22,
     "metadata": {},
     "output_type": "execute_result"
    }
   ],
   "source": [
    "test.json()"
   ]
  }
 ],
 "metadata": {
  "kernelspec": {
   "display_name": "Python 3",
   "language": "python",
   "name": "python3"
  },
  "language_info": {
   "codemirror_mode": {
    "name": "ipython",
    "version": 3
   },
   "file_extension": ".py",
   "mimetype": "text/x-python",
   "name": "python",
   "nbconvert_exporter": "python",
   "pygments_lexer": "ipython3",
   "version": "3.4.3"
  }
 },
 "nbformat": 4,
 "nbformat_minor": 0
}
